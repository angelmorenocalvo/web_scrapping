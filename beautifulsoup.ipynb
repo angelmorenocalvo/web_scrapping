{
 "cells": [
  {
   "cell_type": "code",
   "execution_count": 2,
   "metadata": {},
   "outputs": [],
   "source": [
    "import bs4\n",
    "import requests"
   ]
  },
  {
   "cell_type": "code",
   "execution_count": 3,
   "metadata": {},
   "outputs": [],
   "source": [
    "response = requests.get(\"https://platzi.com\")\n",
    "soup = bs4.BeautifulSoup(response.text,'html.parser')"
   ]
  },
  {
   "cell_type": "code",
   "execution_count": 6,
   "metadata": {},
   "outputs": [
    {
     "name": "stdout",
     "output_type": "stream",
     "text": [
      "ðPlatzi: âCursos Online Profesionales de TecnologÃ­a\n"
     ]
    }
   ],
   "source": [
    "print(soup.title.text)"
   ]
  },
  {
   "cell_type": "code",
   "execution_count": 11,
   "metadata": {},
   "outputs": [
    {
     "name": "stdout",
     "output_type": "stream",
     "text": [
      "[<meta content=\"Aprende desde cero a crear el futuro web con nuestros Cursos Online Profesionales de TecnologÃ­a. ðÂ¡Cursos de Desarrollo, DiseÃ±o, Marketing y Negocios!\" name=\"description\"/>]\n",
      "\n",
      "\n",
      "Aprende desde cero a crear el futuro web con nuestros Cursos Online Profesionales de TecnologÃ­a. ðÂ¡Cursos de Desarrollo, DiseÃ±o, Marketing y Negocios!\n"
     ]
    }
   ],
   "source": [
    "print(soup.select('meta[name=description]'))\n",
    "print('\\n')\n",
    "print(soup.select('meta[name=description]')[0]['content'])"
   ]
  },
  {
   "cell_type": "code",
   "execution_count": 24,
   "metadata": {},
   "outputs": [
    {
     "name": "stdout",
     "output_type": "stream",
     "text": [
      "/categorias/desarrollo/\n",
      "/categorias/diseno/\n",
      "/categorias/marketing/\n",
      "/categorias/negocios/\n",
      "/categorias/produccion-audiovisual/\n",
      "/categorias/crecimiento-profesional/\n"
     ]
    }
   ],
   "source": [
    "# Obtener vinculos a las clases que tiene platzi\n",
    "courses_links = soup.select('.HomeCategories-anchor')\n",
    "#courses = [course['href'] for course in courses_links]\n",
    "\n",
    "for categorie_link in courses_links:\n",
    "    print(categorie_link.get('href'))"
   ]
  },
  {
   "cell_type": "code",
   "execution_count": null,
   "metadata": {},
   "outputs": [],
   "source": []
  },
  {
   "cell_type": "code",
   "execution_count": null,
   "metadata": {},
   "outputs": [],
   "source": []
  }
 ],
 "metadata": {
  "kernelspec": {
   "display_name": "Python (data_eng)",
   "language": "python",
   "name": "data_eng"
  },
  "language_info": {
   "codemirror_mode": {
    "name": "ipython",
    "version": 3
   },
   "file_extension": ".py",
   "mimetype": "text/x-python",
   "name": "python",
   "nbconvert_exporter": "python",
   "pygments_lexer": "ipython3",
   "version": "3.8.3"
  }
 },
 "nbformat": 4,
 "nbformat_minor": 2
}
